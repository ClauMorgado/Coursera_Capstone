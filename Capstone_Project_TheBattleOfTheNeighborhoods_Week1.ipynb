{
 "cells": [
  {
   "cell_type": "markdown",
   "metadata": {},
   "source": [
    "# Capstone Project: The optimal location for great coffee in Lisbon"
   ]
  },
  {
   "cell_type": "markdown",
   "metadata": {},
   "source": [
    "### Applied Data Science Capstone by IBM/Coursera"
   ]
  },
  {
   "cell_type": "markdown",
   "metadata": {},
   "source": [
    "#### _Notebook created by Cláudia Morgado_"
   ]
  },
  {
   "cell_type": "markdown",
   "metadata": {},
   "source": [
    "## Table of contents\n",
    "* [Introduction: Business Problem](#introduction)\n",
    "* [Data](#data)"
   ]
  },
  {
   "cell_type": "markdown",
   "metadata": {},
   "source": [
    "## Introduction: Business Problem <a name=\"introduction\"></a>"
   ]
  },
  {
   "cell_type": "markdown",
   "metadata": {},
   "source": [
    "In this project the aim will be to find the optimal location for a coffee shop in Lisbon, Portugal. Since I live in Lisbon, the decision to use this example for my project was very objective since I already know the city very well as well as were to find the data needed for the project.\n",
    "\n",
    "Lisbon is not a highly populated city, in the 2019 census the number of inhabitants was approximately 500.000; the city is divided in 24 neighbourhoods occupying an area of about 80 square kilometers. In recent years Lisbon has been visited by an increasing number of tourists, about 5 million guests/year making it a city where new businesses are opening on a daily basis so choosing a place to start a new one can be difficult because there is a lot of competition and renting a place in or near the city center can be quite expensive.\n",
    "Lisbon has a large and rich coffee culture so opening a new coffee shop will always be a good idea because for locals goind out for coffee in the morning, lunch and evening is somewhat of a routine; for tourists it is usually the chosen place to take a break for sightseeing.\n",
    "\n",
    "The objective for this project will be to find a location still close to the city center where the surroundings are not already crowded with other coffee shops."
   ]
  },
  {
   "cell_type": "markdown",
   "metadata": {},
   "source": [
    "## Data <a name=\"data\"></a>"
   ]
  },
  {
   "cell_type": "markdown",
   "metadata": {},
   "source": [
    "In order to obtain the results we are looking for we need to collect the following data sources:\n",
    "* location information for the 24 Lisbon neighbourhoods that can be sourced from local government agencies, the one used for this project will be downloaded from here:\n",
    "    * http://mapas.dgterritorio.pt/ATOM-download/CAOP-Cont/Cont_AAD_CAOP2019.zip\n",
    "    * Since the data delivered is a geographic format (SHP) in polygons I used a GIS software to calculate the coordinates for the center of each neighbourhood (latitude and longitude)\n",
    "    \n",
    "* number of coffee shops and their location in every neighborhood will be obtained using Foursquare API"
   ]
  },
  {
   "cell_type": "code",
   "execution_count": null,
   "metadata": {},
   "outputs": [],
   "source": []
  }
 ],
 "metadata": {
  "kernelspec": {
   "display_name": "Python 3",
   "language": "python",
   "name": "python3"
  },
  "language_info": {
   "codemirror_mode": {
    "name": "ipython",
    "version": 3
   },
   "file_extension": ".py",
   "mimetype": "text/x-python",
   "name": "python",
   "nbconvert_exporter": "python",
   "pygments_lexer": "ipython3",
   "version": "3.7.4"
  }
 },
 "nbformat": 4,
 "nbformat_minor": 2
}
